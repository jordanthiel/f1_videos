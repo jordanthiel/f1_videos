{
 "cells": [
  {
   "cell_type": "code",
   "execution_count": 2,
   "id": "c4b794fd-2bd9-464e-a576-3e08cc460e36",
   "metadata": {},
   "outputs": [
    {
     "name": "stdout",
     "output_type": "stream",
     "text": [
      "Running Streamlink command: streamlink https://ott-video-fer-cf.formula1.com/v2/pa_cGF0aDolMkZjODA1OTI3MDUyOWU2M2U0OTJiMzQzMTc5MzNjM2RjYSUyRm91dCUyRnYxJTJGODdmYjI0MTQ1M2FlNDBiMjhmYmM4YWMzY2RlMWZjZTAlMkYzMzk1NzMwN2M1Yjg0OGE2YmVhNjkzYmI0MDBhNzE2NnxraWQ6MTA0MnxleHA6MTczMTUyNjA5NHx0dGw6MTQ0MHxnZW86VVN8c3RyZWFtVHlwZTpITFN8c2Vzc2lvbklkOjIxMzY3NDIyMV8wMUpDR1hKNDFOVFRNR1pWUldCR1BaM1o2RV9QUk98dG9rZW46ZXRkTDd1clU1dFVLWDAtMWpwZ29MQS1DbjdWbEluLS1WM1FPTkdXaWM4QV8_/c8059270529e63e492b34317933c3dca/out/v1/87fb241453ae40b28fbc8ac3cde1fce0/33957307c5b848a6bea693bb400a7166/e4d49ef8077f4032a097e2b0c8a962bb/index.m3u8 worst -o video_output.ts\n",
      "[cli][info] Found matching plugin hls for URL https://ott-video-fer-cf.formula1.com/v2/pa_cGF0aDolMkZjODA1OTI3MDUyOWU2M2U0OTJiMzQzMTc5MzNjM2RjYSUyRm91dCUyRnYxJTJGODdmYjI0MTQ1M2FlNDBiMjhmYmM4YWMzY2RlMWZjZTAlMkYzMzk1NzMwN2M1Yjg0OGE2YmVhNjkzYmI0MDBhNzE2NnxraWQ6MTA0MnxleHA6MTczMTUyNjA5NHx0dGw6MTQ0MHxnZW86VVN8c3RyZWFtVHlwZTpITFN8c2Vzc2lvbklkOjIxMzY3NDIyMV8wMUpDR1hKNDFOVFRNR1pWUldCR1BaM1o2RV9QUk98dG9rZW46ZXRkTDd1clU1dFVLWDAtMWpwZ29MQS1DbjdWbEluLS1WM1FPTkdXaWM4QV8_/c8059270529e63e492b34317933c3dca/out/v1/87fb241453ae40b28fbc8ac3cde1fce0/33957307c5b848a6bea693bb400a7166/e4d49ef8077f4032a097e2b0c8a962bb/index.m3u8\n",
      "[cli][info] Available streams: 270p (worst), 288p, 360p, 540p, 720p, 1080p (best)\n",
      "[cli][info] Opening stream: 270p (hls-multi)\n",
      "[cli][info] Writing output to\n",
      "/Users/jordan/projects/notebooks/video_output.ts\n",
      "[utils.named_pipe][info] Creating pipe streamlinkpipe-16833-1-5774\n",
      "[utils.named_pipe][info] Creating pipe streamlinkpipe-16833-2-4735\n",
      "[cli][info] Stream ended\n",
      "[cli][info] Closing currently open stream...\n",
      "Running FFmpeg command: ffmpeg -i video_output.ts -t 300 -c copy video_output.mp4\n",
      "Video saved as video_output.mp4\n"
     ]
    },
    {
     "name": "stderr",
     "output_type": "stream",
     "text": [
      "ffmpeg version 7.1 Copyright (c) 2000-2024 the FFmpeg developers\n",
      "  built with Apple clang version 16.0.0 (clang-1600.0.26.3)\n",
      "  configuration: --prefix=/opt/homebrew/Cellar/ffmpeg/7.1 --enable-shared --enable-pthreads --enable-version3 --cc=clang --host-cflags= --host-ldflags='-Wl,-ld_classic' --enable-ffplay --enable-gnutls --enable-gpl --enable-libaom --enable-libaribb24 --enable-libbluray --enable-libdav1d --enable-libharfbuzz --enable-libjxl --enable-libmp3lame --enable-libopus --enable-librav1e --enable-librist --enable-librubberband --enable-libsnappy --enable-libsrt --enable-libssh --enable-libsvtav1 --enable-libtesseract --enable-libtheora --enable-libvidstab --enable-libvmaf --enable-libvorbis --enable-libvpx --enable-libwebp --enable-libx264 --enable-libx265 --enable-libxml2 --enable-libxvid --enable-lzma --enable-libfontconfig --enable-libfreetype --enable-frei0r --enable-libass --enable-libopencore-amrnb --enable-libopencore-amrwb --enable-libopenjpeg --enable-libspeex --enable-libsoxr --enable-libzmq --enable-libzimg --disable-libjack --disable-indev=jack --enable-videotoolbox --enable-audiotoolbox --enable-neon\n",
      "  libavutil      59. 39.100 / 59. 39.100\n",
      "  libavcodec     61. 19.100 / 61. 19.100\n",
      "  libavformat    61.  7.100 / 61.  7.100\n",
      "  libavdevice    61.  3.100 / 61.  3.100\n",
      "  libavfilter    10.  4.100 / 10.  4.100\n",
      "  libswscale      8.  3.100 /  8.  3.100\n",
      "  libswresample   5.  3.100 /  5.  3.100\n",
      "  libpostproc    58.  3.100 / 58.  3.100\n",
      "Input #0, mpegts, from 'video_output.ts':\n",
      "  Duration: 02:02:48.96, start: 1.420000, bitrate: 544 kb/s\n",
      "  Program 1 \n",
      "    Metadata:\n",
      "      service_name    : Service01\n",
      "      service_provider: FFmpeg\n",
      "  Stream #0:0[0x100]: Video: h264 (Main) ([27][0][0][0] / 0x001B), yuv420p(progressive), 480x270 [SAR 1:1 DAR 16:9], 50 fps, 50 tbr, 90k tbn\n",
      "  Stream #0:1[0x101]: Audio: aac (LC) ([15][0][0][0] / 0x000F), 48000 Hz, stereo, fltp, 192 kb/s\n",
      "File 'video_output.mp4' already exists. Overwrite? [y/N] Not overwriting - exiting\n",
      "Error opening output file video_output.mp4.\n"
     ]
    },
    {
     "name": "stdout",
     "output_type": "stream",
     "text": [
      "File uploaded to s3://f1-race-videos/video_output.mp4\n"
     ]
    }
   ],
   "source": [
    "import subprocess\n",
    "import os\n",
    "import boto3\n",
    "from botocore.exceptions import NoCredentialsError\n",
    "\n",
    "def download_and_convert_stream(url, quality, filename, bucket_name, s3_path):\n",
    "    # Define file paths\n",
    "    temp_file = f\"{filename}.ts\"\n",
    "    output_file = f\"{filename}.mp4\"\n",
    "\n",
    "    try:\n",
    "        # Step 1: Download video stream with Streamlink\n",
    "        streamlink_command = [\"streamlink\", url, quality, \"-o\", temp_file]\n",
    "        print(f\"Running Streamlink command: {' '.join(streamlink_command)}\")\n",
    "        \n",
    "        # Run the Streamlink command and wait for it to complete\n",
    "        subprocess.run(streamlink_command, check=True, timeout=300)\n",
    "\n",
    "        # Step 2: Convert .ts file to .mp4 and trim to first 5 minutes with FFmpeg\n",
    "        ffmpeg_command = [\"ffmpeg\", \"-i\", temp_file, \"-t\", \"300\", \"-c\", \"copy\", output_file]\n",
    "        print(f\"Running FFmpeg command: {' '.join(ffmpeg_command)}\")\n",
    "        \n",
    "        # Run the FFmpeg command and wait for it to complete\n",
    "        subprocess.run(ffmpeg_command, check=True)\n",
    "\n",
    "        print(f\"Video saved as {output_file}\")\n",
    "\n",
    "        # Step 3: Upload to S3\n",
    "        s3 = boto3.client('s3')\n",
    "        try:\n",
    "            s3.upload_file(output_file, bucket_name, s3_path)\n",
    "            print(f\"File uploaded to s3://{bucket_name}/{s3_path}\")\n",
    "        except NoCredentialsError:\n",
    "            print(\"AWS credentials not available.\")\n",
    "\n",
    "    except subprocess.TimeoutExpired:\n",
    "        print(\"The process timed out.\")\n",
    "    except subprocess.CalledProcessError as e:\n",
    "        print(f\"An error occurred: {e}\")\n",
    "    finally:\n",
    "        # Cleanup: Remove the temporary .ts and .mp4 files\n",
    "        if os.path.exists(temp_file):\n",
    "            os.remove(temp_file)\n",
    "        if os.path.exists(output_file):\n",
    "            os.remove(output_file)\n",
    "\n",
    "# Example usage:\n",
    "url = \"https://ott-video-fer-cf.formula1.com/v2/pa_cGF0aDolMkZjODA1OTI3MDUyOWU2M2U0OTJiMzQzMTc5MzNjM2RjYSUyRm91dCUyRnYxJTJGODdmYjI0MTQ1M2FlNDBiMjhmYmM4YWMzY2RlMWZjZTAlMkYzMzk1NzMwN2M1Yjg0OGE2YmVhNjkzYmI0MDBhNzE2NnxraWQ6MTA0MnxleHA6MTczMTUyNjA5NHx0dGw6MTQ0MHxnZW86VVN8c3RyZWFtVHlwZTpITFN8c2Vzc2lvbklkOjIxMzY3NDIyMV8wMUpDR1hKNDFOVFRNR1pWUldCR1BaM1o2RV9QUk98dG9rZW46ZXRkTDd1clU1dFVLWDAtMWpwZ29MQS1DbjdWbEluLS1WM1FPTkdXaWM4QV8_/c8059270529e63e492b34317933c3dca/out/v1/87fb241453ae40b28fbc8ac3cde1fce0/33957307c5b848a6bea693bb400a7166/e4d49ef8077f4032a097e2b0c8a962bb/index.m3u8\"\n",
    "quality = \"worst\"\n",
    "filename = \"video_output\"\n",
    "bucket_name = \"f1-race-videos\"\n",
    "s3_path = f\"{filename}.mp4\"\n",
    "\n",
    "download_and_convert_stream(url, quality, filename, bucket_name, s3_path)\n"
   ]
  },
  {
   "cell_type": "code",
   "execution_count": null,
   "id": "a0f2b179-6145-477b-aa0b-2ed66a20ac63",
   "metadata": {},
   "outputs": [],
   "source": []
  }
 ],
 "metadata": {
  "kernelspec": {
   "display_name": "Python 3 (ipykernel)",
   "language": "python",
   "name": "python3"
  },
  "language_info": {
   "codemirror_mode": {
    "name": "ipython",
    "version": 3
   },
   "file_extension": ".py",
   "mimetype": "text/x-python",
   "name": "python",
   "nbconvert_exporter": "python",
   "pygments_lexer": "ipython3",
   "version": "3.11.10"
  }
 },
 "nbformat": 4,
 "nbformat_minor": 5
}
